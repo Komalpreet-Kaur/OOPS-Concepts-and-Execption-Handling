{
 "cells": [
  {
   "cell_type": "markdown",
   "metadata": {},
   "source": [
    "**The errors detected during execution are called exceptions.**"
   ]
  },
  {
   "cell_type": "markdown",
   "metadata": {},
   "source": [
    "The basic teerminology used to handle errors is the TRY and EXCEPT statments. The code which can cause an exception to occur is put in the try block and handling of exception are implemented in the except block.\n",
    "\n",
    "Block of code that will always run regardless if there was an exception in try block is put undeer finally statement.\n"
   ]
  },
  {
   "cell_type": "code",
   "execution_count": 3,
   "metadata": {},
   "outputs": [
    {
     "name": "stdout",
     "output_type": "stream",
     "text": [
      "Enter your age7\n",
      "Done!\n"
     ]
    }
   ],
   "source": [
    "def ask_user():\n",
    "    try:\n",
    "        a =int(input(\"Enter your age\"))\n",
    "    except:\n",
    "        print(\"Error occured\")\n",
    "    finally:\n",
    "        print(\"Done!\")\n",
    "ask_user()"
   ]
  },
  {
   "cell_type": "code",
   "execution_count": 4,
   "metadata": {},
   "outputs": [
    {
     "name": "stdout",
     "output_type": "stream",
     "text": [
      "Enter your agea\n",
      "Error occured\n",
      "Done!\n"
     ]
    }
   ],
   "source": [
    "def ask_user():\n",
    "    try:\n",
    "        a =int(input(\"Enter your age\"))\n",
    "    except:\n",
    "        print(\"Error occured\")\n",
    "    finally:\n",
    "        print(\"Done!\")\n",
    "ask_user()"
   ]
  }
 ],
 "metadata": {
  "kernelspec": {
   "display_name": "Python 3",
   "language": "python",
   "name": "python3"
  },
  "language_info": {
   "codemirror_mode": {
    "name": "ipython",
    "version": 3
   },
   "file_extension": ".py",
   "mimetype": "text/x-python",
   "name": "python",
   "nbconvert_exporter": "python",
   "pygments_lexer": "ipython3",
   "version": "3.7.3"
  }
 },
 "nbformat": 4,
 "nbformat_minor": 2
}
