{
 "cells": [
  {
   "cell_type": "markdown",
   "metadata": {},
   "source": [
    "**OOPS - A way of compter programming that uses the ideal of classesa nd objects to represent data and methods.**"
   ]
  },
  {
   "cell_type": "markdown",
   "metadata": {},
   "source": [
    "A CLASS is a blueprint for the object.\n",
    "Syntax ---> class classname:\n",
    "\n",
    "An OBJECT is an entity of class that can access data.\n",
    "Syntax ---> objectname = classname()"
   ]
  },
  {
   "cell_type": "code",
   "execution_count": 4,
   "metadata": {},
   "outputs": [
    {
     "name": "stdout",
     "output_type": "stream",
     "text": [
      "ABC\n"
     ]
    }
   ],
   "source": [
    "class Employee():                             # creating a class\n",
    "    def __init__ (self,name,age,salary):      # init initializes the class variables\n",
    "        self.name=name\n",
    "        self.age=age\n",
    "        self.salary=salary \n",
    "e1=Employee(\"ABC\",25,20000)                    # creating object of class employee\n",
    "print(e1.name)"
   ]
  },
  {
   "cell_type": "code",
   "execution_count": 8,
   "metadata": {},
   "outputs": [
    {
     "name": "stdout",
     "output_type": "stream",
     "text": [
      "40000\n"
     ]
    }
   ],
   "source": [
    "class Employee():                             # creating a class\n",
    "    def __init__ (self,name,age,salary):      # init initializes the class variables\n",
    "        self.name=name\n",
    "        self.age=age\n",
    "        self.salary=salary \n",
    "    def inc_salary(self):                     # creating a function inside class\n",
    "        self.salary=(self.salary)*2\n",
    "        print(self.salary)\n",
    "e1=Employee(\"ABC\",25,20000)                    # creating object of class employee\n",
    "e1.inc_salary()"
   ]
  },
  {
   "cell_type": "markdown",
   "metadata": {},
   "source": [
    "ATTRIBUTES - These are the properties of class.These are of two types:\n",
    "**********\n",
    "Class attributes ----> These are shared by all the objects of class and declared outside the method(function).\n",
    "\n",
    "Instance attributes ----> These are exclusive to a particular instance and declared inside the method."
   ]
  },
  {
   "cell_type": "code",
   "execution_count": 10,
   "metadata": {},
   "outputs": [
    {
     "name": "stdout",
     "output_type": "stream",
     "text": [
      "maruti\n",
      "1\n",
      "santro\n",
      "2\n"
     ]
    }
   ],
   "source": [
    "class Car:\n",
    "    car_count = 0   # class attribute\n",
    "    def start(self,name,make):\n",
    "        self.name=name    # instance attribute\n",
    "        self.make=make    # instance attribute\n",
    "        Car.car_count+=1\n",
    "car_a=Car()\n",
    "car_a.start(\"maruti\",2000)\n",
    "print(car_a.name)\n",
    "print(car_a.car_count)\n",
    "car_b=Car()\n",
    "car_b.start(\"santro\",2003)\n",
    "print(car_b.name)\n",
    "print(car_b.car_count)\n"
   ]
  },
  {
   "cell_type": "markdown",
   "metadata": {},
   "source": [
    "STATIC METHODS - Generally, we use objects to call methods. But there are some methods that can be called using the class name directly and we need not to create the objects . Such methods are called static methods."
   ]
  },
  {
   "cell_type": "code",
   "execution_count": 11,
   "metadata": {},
   "outputs": [
    {
     "name": "stdout",
     "output_type": "stream",
     "text": [
      "Okk\n"
     ]
    }
   ],
   "source": [
    "class Car:\n",
    "    @staticmethod\n",
    "    def details():                          # static method\n",
    "        print(\"Okk\")\n",
    "Car.details()                               # calling static method directly by using class name"
   ]
  },
  {
   "cell_type": "markdown",
   "metadata": {},
   "source": [
    "VARIABLES - Attributes of class are also known as variables. Depending on the scope, they can be categorized as : (i) Local variables (ii) Global variables\n",
    "**************\n",
    "Local ---> Variable that can be accessed only inside the code block where it is defined.\n",
    "\n",
    "Global ---> variable that is defined outside any code block and can accessed anywhere in the class."
   ]
  },
  {
   "cell_type": "code",
   "execution_count": 13,
   "metadata": {},
   "outputs": [
    {
     "name": "stdout",
     "output_type": "stream",
     "text": [
      "Start Engine\n"
     ]
    },
    {
     "ename": "AttributeError",
     "evalue": "'Car' object has no attribute 'msg_2'",
     "output_type": "error",
     "traceback": [
      "\u001b[1;31m---------------------------------------------------------------------------\u001b[0m",
      "\u001b[1;31mAttributeError\u001b[0m                            Traceback (most recent call last)",
      "\u001b[1;32m<ipython-input-13-b396da3a3b48>\u001b[0m in \u001b[0;36m<module>\u001b[1;34m\u001b[0m\n\u001b[0;32m      6\u001b[0m \u001b[0mc1\u001b[0m\u001b[1;33m=\u001b[0m\u001b[0mCar\u001b[0m\u001b[1;33m(\u001b[0m\u001b[1;33m)\u001b[0m\u001b[1;33m\u001b[0m\u001b[1;33m\u001b[0m\u001b[0m\n\u001b[0;32m      7\u001b[0m \u001b[0mprint\u001b[0m\u001b[1;33m(\u001b[0m\u001b[0mc1\u001b[0m\u001b[1;33m.\u001b[0m\u001b[0mmsg_1\u001b[0m\u001b[1;33m)\u001b[0m\u001b[1;33m\u001b[0m\u001b[1;33m\u001b[0m\u001b[0m\n\u001b[1;32m----> 8\u001b[1;33m \u001b[0mprint\u001b[0m\u001b[1;33m(\u001b[0m\u001b[0mc1\u001b[0m\u001b[1;33m.\u001b[0m\u001b[0mmsg_2\u001b[0m\u001b[1;33m)\u001b[0m\u001b[1;33m\u001b[0m\u001b[1;33m\u001b[0m\u001b[0m\n\u001b[0m",
      "\u001b[1;31mAttributeError\u001b[0m: 'Car' object has no attribute 'msg_2'"
     ]
    }
   ],
   "source": [
    "class Car:\n",
    "    msg_1= \"Start Engine\"\n",
    "    def example(self):\n",
    "        msg_2= \" OKK\"\n",
    "        return msg_2\n",
    "c1=Car()\n",
    "print(c1.msg_1)                  #  Variable is accessible\n",
    "print(c1.msg_2)                  # Variable is not accessible"
   ]
  },
  {
   "cell_type": "markdown",
   "metadata": {},
   "source": [
    "**INHERITANCE - The basic idea of inheritance is that a class member can inherit the characteristics of another calss. This helps in code reusability.**"
   ]
  },
  {
   "cell_type": "markdown",
   "metadata": {},
   "source": [
    "Single Inheritance - This enables a derived class to inherit properties from a single parent class."
   ]
  },
  {
   "cell_type": "code",
   "execution_count": 15,
   "metadata": {},
   "outputs": [
    {
     "name": "stdout",
     "output_type": "stream",
     "text": [
      "parent class\n"
     ]
    }
   ],
   "source": [
    "class Car:                                   #parent class\n",
    "    def start(self):\n",
    "        print(\"parent class\")\n",
    "class Vehicle(Car):                         # child class\n",
    "    def stop(self):\n",
    "        print(\"Child class\")\n",
    "v1=Vehicle()\n",
    "v1.start()                                # child class object inheriting the parent class method"
   ]
  },
  {
   "cell_type": "markdown",
   "metadata": {},
   "source": [
    "Hierarchical Inheritance - This enable more than one derived class to inherit the properties from a parent class"
   ]
  },
  {
   "cell_type": "code",
   "execution_count": 16,
   "metadata": {},
   "outputs": [
    {
     "name": "stdout",
     "output_type": "stream",
     "text": [
      "Parent vehicle class\n",
      "Parent vehicle class\n"
     ]
    }
   ],
   "source": [
    "class Vehicle:                                 # parent class\n",
    "    def veh_method(self):\n",
    "        print(\"Parent vehicle class\")\n",
    "class Car(Vehicle):                            # first child class\n",
    "    def car_method(self):\n",
    "        print(\"Child car class\")\n",
    "class Bike(Vehicle):                          # second child class\n",
    "    def bike_method(self):\n",
    "        print(\"Child bike class\")\n",
    "c1=Car()\n",
    "c1.veh_method()\n",
    "c2=Bike()\n",
    "c2.veh_method()"
   ]
  },
  {
   "cell_type": "markdown",
   "metadata": {},
   "source": [
    "Multiple Inheritance - This enables one derived class to inherit properties from more than on parent class."
   ]
  },
  {
   "cell_type": "code",
   "execution_count": 17,
   "metadata": {},
   "outputs": [
    {
     "name": "stdout",
     "output_type": "stream",
     "text": [
      "Phone is ringing\n",
      "Radio is nice\n",
      "Phone is ringing\n",
      "Camera is expensive\n"
     ]
    }
   ],
   "source": [
    "class Radio:                                       # first parent class\n",
    "    def rad(self):\n",
    "        print(\"Radio is nice\")\n",
    "class Camera:                                      # second parent class\n",
    "    def cam(self):\n",
    "        print(\"Camera is expensive\")\n",
    "class Phone(Radio,Camera):                        # child class inheritig from both parent classes\n",
    "    def pho(self):\n",
    "        print(\"Phone is ringing\")\n",
    "pho_1=Phone()\n",
    "pho_1.pho()\n",
    "pho_1.rad()\n",
    "pho_2=Phone()\n",
    "pho_2.pho()\n",
    "pho_2.cam()"
   ]
  },
  {
   "cell_type": "markdown",
   "metadata": {},
   "source": [
    "Multilevel Inheritance - This enables a derived clas to inherit properties from an immediate parent class which in turn inherits properties from its parent class"
   ]
  },
  {
   "cell_type": "code",
   "execution_count": 18,
   "metadata": {},
   "outputs": [
    {
     "name": "stdout",
     "output_type": "stream",
     "text": [
      "Its middle\n",
      "Its low\n"
     ]
    }
   ],
   "source": [
    "class Car:\n",
    "    def start(self):\n",
    "        print(\"Its top\")\n",
    "class Vehicle(Car):\n",
    "    def engine(self):\n",
    "        print(\"Its middle\")\n",
    "class Air(Vehicle):\n",
    "    def stop(self):\n",
    "        print(\"Its low\")\n",
    "a1=Air()\n",
    "a1.engine()\n",
    "a1.stop()"
   ]
  },
  {
   "cell_type": "markdown",
   "metadata": {},
   "source": [
    "**POLYMORPHISM - Refers to the ability of an object to behave in multiple ways. It is implemented through method overloading and method overriding. Poly(multiple) morphism(ways).**"
   ]
  },
  {
   "cell_type": "markdown",
   "metadata": {},
   "source": [
    "Method Overloading - Refers to the property of method to behave in different ways depending upon number and types of parameters."
   ]
  },
  {
   "cell_type": "code",
   "execution_count": 19,
   "metadata": {},
   "outputs": [
    {
     "name": "stdout",
     "output_type": "stream",
     "text": [
      "15\n",
      "8\n"
     ]
    }
   ],
   "source": [
    "class Car:\n",
    "    def start(self,a,b=None):\n",
    "        if b is not None:\n",
    "            print(a+b)\n",
    "        else:\n",
    "            print(a)\n",
    "car_A=Car()\n",
    "car_A.start(10,5)\n",
    "car_B=Car()\n",
    "car_B.start(8)"
   ]
  },
  {
   "cell_type": "markdown",
   "metadata": {},
   "source": [
    "Method Overriding - Refers to having a method with the same name in the child class as in the parent class. The definition of method differs in the parent and child classes but the name remains the same."
   ]
  },
  {
   "cell_type": "code",
   "execution_count": 20,
   "metadata": {},
   "outputs": [
    {
     "name": "stdout",
     "output_type": "stream",
     "text": [
      "Yes\n"
     ]
    }
   ],
   "source": [
    "class Car:\n",
    "    def start(self):\n",
    "        print(\"Okk\")\n",
    "class tyre(Car):\n",
    "    def start(self):\n",
    "        print(\"Yes\")\n",
    "c1=tyre()\n",
    "c1.start()"
   ]
  }
 ],
 "metadata": {
  "kernelspec": {
   "display_name": "Python 3",
   "language": "python",
   "name": "python3"
  },
  "language_info": {
   "codemirror_mode": {
    "name": "ipython",
    "version": 3
   },
   "file_extension": ".py",
   "mimetype": "text/x-python",
   "name": "python",
   "nbconvert_exporter": "python",
   "pygments_lexer": "ipython3",
   "version": "3.7.3"
  }
 },
 "nbformat": 4,
 "nbformat_minor": 2
}
